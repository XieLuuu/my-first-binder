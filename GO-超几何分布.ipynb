{
 "cells": [
  {
   "cell_type": "code",
   "execution_count": 115,
   "id": "a2df5600",
   "metadata": {
    "scrolled": true
   },
   "outputs": [],
   "source": [
    "import numpy as np\n",
    "from scipy.stats import hypergeom"
   ]
  },
  {
   "cell_type": "code",
   "execution_count": 116,
   "id": "6fa61e05",
   "metadata": {},
   "outputs": [],
   "source": [
    "def enrichment_score(gene_all, gene_set, gene_test):\n",
    "    \n",
    "    gene_all = np.unique(gene_all)\n",
    "    gene_set = np.unique(gene_set)\n",
    "    gene_test = np.unique(gene_set)\n",
    "    \n",
    "    M = len(gene_all)\n",
    "    N = len(gene_test)\n",
    "    n = len(gene_set)\n",
    "    \n",
    "    ## n 为 gene_test 中的元素在gene_set 中的数量, 成功的数量\n",
    "    intersection = set(gene_set).intersection(set(gene_test))\n",
    "    print(intersection)\n",
    "    intersection_len = len(intersection)\n",
    "    p_values = []\n",
    "    print(intersection_len)\n",
    "    for k in list(range(0,intersection_len+1,1)):\n",
    "        \n",
    "            ## k 值的范围 是 0 --- intersection_len\n",
    "            ## hypergeom.pmf 计算超几何分布的取值\n",
    "            ## k 成功的次数\n",
    "            ## M 总体大小\n",
    "            ## n 通路的基因数\n",
    "            ## N 抽样的大小\n",
    "        print(\"%s==%s==%s==%s\"%(k, M, n, N))\n",
    "        p = hypergeom.pmf(k, M, n, N)\n",
    "        print(p)\n",
    "        p_values.append(p)\n",
    "#    enrich_score = np.sum(np.log2(p_values))\n",
    "    enrich_score = np.sum(p_values)\n",
    "    return enrich_score\n",
    "\n",
    "## 结果说明，如果p 值是小于0.05，说明从总的M基因中挑选N个基因，有intersection 个基因属于n数的通路是小概率事件，但是现在发生了，就说明是显著的富集 "
   ]
  },
  {
   "cell_type": "code",
   "execution_count": 117,
   "id": "baef816e",
   "metadata": {},
   "outputs": [],
   "source": [
    "## all gene\n",
    "gene_universe = ['A', 'B', 'C', 'D', 'E', 'F', 'G', 'H', 'I', 'J']\n",
    "## gene_set\n",
    "gene_set = ['A', 'B', 'C', 'D','E','F']\n",
    "## test gene\n",
    "gene_list = ['A', 'B', 'C', 'D','E','F']"
   ]
  },
  {
   "cell_type": "code",
   "execution_count": 118,
   "id": "7373258e",
   "metadata": {},
   "outputs": [
    {
     "name": "stdout",
     "output_type": "stream",
     "text": [
      "{'B', 'A', 'D', 'E', 'C', 'F'}\n",
      "6\n",
      "1==10==6==6\n",
      "0.0\n",
      "2==10==6==6\n",
      "0.07142857142857141\n",
      "3==10==6==6\n",
      "0.3809523809523807\n",
      "4==10==6==6\n",
      "0.42857142857142844\n",
      "5==10==6==6\n",
      "0.11428571428571417\n",
      "6==10==6==6\n",
      "0.004761904761904763\n",
      "Enrichment score: -inf\n"
     ]
    },
    {
     "name": "stderr",
     "output_type": "stream",
     "text": [
      "/shilab3/home1/xielu/software/miniconda3/lib/python3.7/site-packages/ipykernel_launcher.py:31: RuntimeWarning: divide by zero encountered in log2\n"
     ]
    }
   ],
   "source": [
    "score = enrichment_score(gene_universe,gene_set,gene_list)\n",
    "print(\"Enrichment score:\", score)"
   ]
  },
  {
   "cell_type": "code",
   "execution_count": 110,
   "id": "efb70aa6",
   "metadata": {},
   "outputs": [
    {
     "data": {
      "text/plain": [
       "[0, 1, 2, 3, 4, 5]"
      ]
     },
     "execution_count": 110,
     "metadata": {},
     "output_type": "execute_result"
    }
   ],
   "source": [
    "list(range(0,6,1))"
   ]
  },
  {
   "cell_type": "code",
   "execution_count": 111,
   "id": "1d40aa63",
   "metadata": {},
   "outputs": [
    {
     "data": {
      "text/plain": [
       "0.004761904761904763"
      ]
     },
     "execution_count": 111,
     "metadata": {},
     "output_type": "execute_result"
    }
   ],
   "source": [
    "hypergeom.pmf(6, 10, 6, 6)"
   ]
  },
  {
   "cell_type": "code",
   "execution_count": 120,
   "id": "5f4e9ff6",
   "metadata": {},
   "outputs": [
    {
     "data": {
      "text/plain": [
       "0.6830377313950301"
      ]
     },
     "execution_count": 120,
     "metadata": {},
     "output_type": "execute_result"
    }
   ],
   "source": [
    "hypergeom.pmf(0, 100, 6, 6)"
   ]
  },
  {
   "cell_type": "code",
   "execution_count": 122,
   "id": "52788f41",
   "metadata": {},
   "outputs": [
    {
     "data": {
      "text/plain": [
       "[0, 1, 2, 3, 4, 5]"
      ]
     },
     "execution_count": 122,
     "metadata": {},
     "output_type": "execute_result"
    }
   ],
   "source": [
    "list(range(0,6,1))"
   ]
  },
  {
   "cell_type": "code",
   "execution_count": null,
   "id": "3567ebd4",
   "metadata": {},
   "outputs": [],
   "source": []
  }
 ],
 "metadata": {
  "kernelspec": {
   "display_name": "Python 3 (ipykernel)",
   "language": "python",
   "name": "python3"
  },
  "language_info": {
   "codemirror_mode": {
    "name": "ipython",
    "version": 3
   },
   "file_extension": ".py",
   "mimetype": "text/x-python",
   "name": "python",
   "nbconvert_exporter": "python",
   "pygments_lexer": "ipython3",
   "version": "3.7.6"
  }
 },
 "nbformat": 4,
 "nbformat_minor": 5
}
